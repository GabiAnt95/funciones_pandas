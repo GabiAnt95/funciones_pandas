{
 "cells": [
  {
   "cell_type": "code",
   "execution_count": 1,
   "id": "d3547025",
   "metadata": {},
   "outputs": [],
   "source": [
    "import pandas as pd\n"
   ]
  },
  {
   "cell_type": "code",
   "execution_count": 3,
   "id": "67a99a32",
   "metadata": {},
   "outputs": [],
   "source": [
    "def filtrar_df_lista(df, str_columna, lista):\n",
    "    \n",
    "    '''\n",
    "    INPUTS: \n",
    "    \n",
    "    df : DataFrame a filtrar\n",
    "    str_columna : columna por la que se quiere filtrar\n",
    "    lista : lista de elementos que se quieren ver del df\n",
    "    \n",
    "    OUTPUT:\n",
    "    \n",
    "    df filtrado y reindexado\n",
    "    \n",
    "    '''\n",
    "\n",
    "    new_df = pd.DataFrame()\n",
    "\n",
    "    new_df = new_df.append([df[df[str_columna] == e] for e in lista])\n",
    "\n",
    "    return new_df.reset_index().drop(['index'], axis = 1)"
   ]
  },
  {
   "cell_type": "code",
   "execution_count": 4,
   "id": "1aae074f",
   "metadata": {},
   "outputs": [],
   "source": [
    "def filtro_condicion(df, nombre_columna, condicion, valor):\n",
    "\n",
    "    '''\n",
    "    INPUTS:\n",
    "    \n",
    "    df = dataframe a filtrar\n",
    "    nombre_ columna = columna a filtrar metida como str\n",
    "    condicion = condicion metida como string --> ['igual', 'menor_igual', 'menor', 'mayor_igual', 'mayor', 'distinto']\n",
    "    valor = valor a filtrar como int\n",
    "    \n",
    "    OUTPUTS:\n",
    "    \n",
    "    df filtrado\n",
    "    \n",
    "    '''\n",
    "    \n",
    "    if condicion == 'igual':\n",
    "        return df[df[str(nombre_columna)] == valor]\n",
    "    \n",
    "    elif condicion == 'menor_igual':\n",
    "        return df[df[str(nombre_columna)] <= valor]\n",
    "    \n",
    "    elif condicion == 'menor':\n",
    "        return df[df[str(nombre_columna)] < valor]\n",
    "    \n",
    "    elif condicion == 'mayor_igual':\n",
    "        return df[df[str(nombre_columna)] >= valor]\n",
    "    \n",
    "    elif condicion == 'mayor':\n",
    "        return df[df[str(nombre_columna)] > valor]\n",
    "\n",
    "    elif condicion == 'distinto':\n",
    "        return df[df[str(nombre_columna)] != valor]\n",
    "    \n",
    "    "
   ]
  },
  {
   "cell_type": "code",
   "execution_count": null,
   "id": "372638fc",
   "metadata": {},
   "outputs": [],
   "source": []
  },
  {
   "cell_type": "code",
   "execution_count": null,
   "id": "52686b50",
   "metadata": {},
   "outputs": [],
   "source": []
  }
 ],
 "metadata": {
  "kernelspec": {
   "display_name": "Python 3 (ipykernel)",
   "language": "python",
   "name": "python3"
  },
  "language_info": {
   "codemirror_mode": {
    "name": "ipython",
    "version": 3
   },
   "file_extension": ".py",
   "mimetype": "text/x-python",
   "name": "python",
   "nbconvert_exporter": "python",
   "pygments_lexer": "ipython3",
   "version": "3.9.7"
  }
 },
 "nbformat": 4,
 "nbformat_minor": 5
}
